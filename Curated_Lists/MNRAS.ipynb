{
 "cells": [
  {
   "cell_type": "markdown",
   "metadata": {},
   "source": [
    "# MNRAS Latex Author List Builder\n",
    "\n",
    "### Josh Dillon, 12/26/19\n",
    "\n",
    "The following notebook was used to build the author list for *Redundant-Baseline Calibration of the Hydrogen Epoch of Reionization Array* (Dillon et al. 2020) and is meant for MNRAS.\n",
    "\n"
   ]
  },
  {
   "cell_type": "code",
   "execution_count": 24,
   "metadata": {
    "ExecuteTime": {
     "end_time": "2020-03-17T21:56:47.610270Z",
     "start_time": "2020-03-17T21:56:47.607707Z"
    }
   },
   "outputs": [],
   "source": [
    "from builders import Authors"
   ]
  },
  {
   "cell_type": "code",
   "execution_count": 25,
   "metadata": {
    "ExecuteTime": {
     "end_time": "2020-03-17T21:56:47.761095Z",
     "start_time": "2020-03-17T21:56:47.755964Z"
    }
   },
   "outputs": [
    {
     "name": "stdout",
     "output_type": "stream",
     "text": [
      "Reading builders_H1C.txt\n",
      "Reading builders_H3C.txt\n"
     ]
    }
   ],
   "source": [
    "author_epoch = Authors(epoch='H1C') # This is the relevant epoch for the data being used. Get the alphabetical author list from here.\n",
    "affil_epoch = Authors(epoch='H3C')  # This is the most up-to-date affiliations. Look here first for affiliations\n",
    "author_epoch.getAuthors()\n",
    "affil_epoch.getAuthors()"
   ]
  },
  {
   "cell_type": "code",
   "execution_count": 26,
   "metadata": {
    "ExecuteTime": {
     "end_time": "2020-03-17T21:56:47.893956Z",
     "start_time": "2020-03-17T21:56:47.890987Z"
    }
   },
   "outputs": [],
   "source": [
    "# Page header author list\n",
    "short_author_list = 'J.\\ S.\\ Dillon et al.'\n",
    "\n",
    "# First authors and primary contributors in order. These are removed from the alphabetical section\n",
    "nonalpha_authors = ['dillonjoshua', 'leemax', 'alizaki', 'parsonsaaron', 'orosznaomi', 'nunhokeechuneeta', 'la~plantepaul', 'beardsleyadam', 'kernnicholas']\n",
    "\n",
    "# Corresponding authors\n",
    "coresponding_author = {'dillonjoshua': 'jsdillon@berkeley.edu'}"
   ]
  },
  {
   "cell_type": "code",
   "execution_count": 27,
   "metadata": {
    "ExecuteTime": {
     "end_time": "2020-03-17T21:56:48.037549Z",
     "start_time": "2020-03-17T21:56:48.032683Z"
    }
   },
   "outputs": [],
   "source": [
    "# Authors not in either author_epoch or affil_epoch\n",
    "outside_authors = {'leemax': {'first': 'Max',\n",
    "                              'middle': '',\n",
    "                              'last': 'Lee',\n",
    "                              'nice': ['Max', '', 'Lee'],\n",
    "                              'affiliations': ['Department of Astronomy, University of California, Berkeley, CA'],\n",
    "                              'group': '_',\n",
    "                              'ID': {}},\n",
    "                  'orosznaomi': {'first': 'Naomi',\n",
    "                                 'middle': '',\n",
    "                                 'last': 'Orosz',\n",
    "                                 'nice': ['Naomi', '', 'Orosz'],\n",
    "                                 'affiliations': ['Department of Astronomy, University of California, Berkeley, CA'],\n",
    "                                 'group': '_',\n",
    "                                 'ID': {}},\n",
    "                  'mayinzhe': {'first': 'Yin-Zhe',\n",
    "                                 'middle': '',\n",
    "                                 'last': 'Ma',\n",
    "                                 'nice': ['Yin-Zhe', '', 'Ma'],\n",
    "                                 'affiliations': ['School of Chemistry and Physics, University of KwaZulu-Natal, Westville Campus, Durban, 4000, South Africa'],\n",
    "                                 'group': '_',\n",
    "                                 'ID': {}},                   \n",
    "                  }"
   ]
  },
  {
   "cell_type": "code",
   "execution_count": 36,
   "metadata": {
    "ExecuteTime": {
     "end_time": "2020-03-17T21:58:15.664516Z",
     "start_time": "2020-03-17T21:58:15.658835Z"
    }
   },
   "outputs": [
    {
     "name": "stdout",
     "output_type": "stream",
     "text": [
      "Reading builders_H0C.txt\n"
     ]
    }
   ],
   "source": [
    "# Add authors in the affiliation epoch but not the author epoch\n",
    "affil_authors_to_add_alphabetically = ['bullphil','santosmario', 'murraysteven', 'pascuarobert', 'mayinzhe']\n",
    "for a in affil_authors_to_add_alphabetically:\n",
    "    try:\n",
    "        author_epoch.authors[a] = affil_epoch.authors[a]\n",
    "    except:\n",
    "        author_epoch.authors[a] = outside_authors[a]\n",
    "    \n",
    "H0C_authors = ['tegmarkmax']\n",
    "H0C_epoch = Authors(epoch='H0C')\n",
    "H0C_epoch.getAuthors()\n",
    "for a in H0C_authors:\n",
    "    author_epoch.authors[a] = H0C_epoch.authors[a]\n"
   ]
  },
  {
   "cell_type": "code",
   "execution_count": 37,
   "metadata": {
    "ExecuteTime": {
     "end_time": "2020-03-17T21:58:16.485461Z",
     "start_time": "2020-03-17T21:58:16.482397Z"
    }
   },
   "outputs": [],
   "source": [
    "# Used for fellowship affiliations, etc.\n",
    "special_affil_marks = [r'\\dagger', r'\\ddagger', r'\\dagger\\dagger', r'\\ddagger\\ddagger']\n",
    "special_affils = {'dillonjoshua': 'NSF Astronomy and Astrophysics Postdoctoral Fellow',\n",
    "                  'beardsleyadam': 'NSF Astronomy and Astrophysics Postdoctoral Fellow',\n",
    "                  'thyagarajannithyanandan': 'NRAO Jansky Fellow'\n",
    "                 }"
   ]
  },
  {
   "cell_type": "code",
   "execution_count": 38,
   "metadata": {
    "ExecuteTime": {
     "end_time": "2020-03-17T21:58:17.227909Z",
     "start_time": "2020-03-17T21:58:17.225647Z"
    }
   },
   "outputs": [],
   "source": [
    "# Vague attempt to put \\newauthor commands in the right place. Doesn't account for character width, so this might need to be adjusted by hand later.\n",
    "line_width = 80"
   ]
  },
  {
   "cell_type": "code",
   "execution_count": 45,
   "metadata": {
    "ExecuteTime": {
     "end_time": "2020-03-17T22:02:31.667921Z",
     "start_time": "2020-03-17T22:02:31.662544Z"
    }
   },
   "outputs": [
    {
     "data": {
      "text/plain": [
       "['abdurashidovazara',\n",
       " 'aguirrejames',\n",
       " 'alexanderpaul',\n",
       " 'alizaki',\n",
       " 'balfouryanga',\n",
       " 'beardsleyadam',\n",
       " 'bernardigianni',\n",
       " 'billingstashalee',\n",
       " 'bowmanjudd',\n",
       " 'bradleyrichard',\n",
       " 'bullphil',\n",
       " 'burbajacob',\n",
       " 'careysteve',\n",
       " 'carillichris',\n",
       " 'chengcarina',\n",
       " 'deboerdavid',\n",
       " 'dextermatt',\n",
       " 'de~lera~acedoeloy',\n",
       " 'dillonjoshua',\n",
       " 'elyjohn',\n",
       " 'ewall-wiceaaron',\n",
       " 'fagnoninicolas',\n",
       " 'fritzrandall',\n",
       " 'furlanettosteven',\n",
       " 'gale-sideskingsley',\n",
       " 'glendenningbrian',\n",
       " 'gorthideepthi',\n",
       " 'greigbradley',\n",
       " 'grobbelaarjasper',\n",
       " 'haldayziyaad',\n",
       " 'hazeltonbryna',\n",
       " 'hewittjacqueline',\n",
       " 'hickishjack',\n",
       " 'jacobsdaniel',\n",
       " 'juliusaustin',\n",
       " 'kernnicholas',\n",
       " 'kerriganjoshua',\n",
       " 'kittiwisitpiyanat',\n",
       " 'kohnsaul',\n",
       " 'kolopanismatthew',\n",
       " 'lanmanadam',\n",
       " 'la~plantepaul',\n",
       " 'lekalaketelalo',\n",
       " 'lewisdavid',\n",
       " 'liuadrian',\n",
       " 'mayinzhe',\n",
       " 'macmahondavid',\n",
       " 'malanlourence',\n",
       " 'malgascresshim',\n",
       " 'mareematthys',\n",
       " 'martinotzachary',\n",
       " 'matsetelaeunice',\n",
       " 'mesingerandrei',\n",
       " 'molewamathakane',\n",
       " 'moralesmiguel',\n",
       " 'mosianetshegofalang',\n",
       " 'murraysteven',\n",
       " 'nebenabraham',\n",
       " 'nikolicbojan',\n",
       " 'parsonsaaron',\n",
       " 'pascuarobert',\n",
       " 'patranipanjana',\n",
       " 'pietersesamantha',\n",
       " 'poberjonathan',\n",
       " 'razavi-ghodsnima',\n",
       " 'ringuettejon',\n",
       " 'robnettjames',\n",
       " 'rosiekathryn',\n",
       " 'santosmario',\n",
       " 'simspeter',\n",
       " 'smithcraig',\n",
       " 'syceangelo',\n",
       " 'tegmarkmax',\n",
       " 'thyagarajannithyanandan',\n",
       " 'williamspeter',\n",
       " 'zhenghaoxuan']"
      ]
     },
     "execution_count": 45,
     "metadata": {},
     "output_type": "execute_result"
    }
   ],
   "source": []
  },
  {
   "cell_type": "code",
   "execution_count": 46,
   "metadata": {
    "ExecuteTime": {
     "end_time": "2020-03-17T22:03:16.167141Z",
     "start_time": "2020-03-17T22:03:16.145557Z"
    },
    "scrolled": false
   },
   "outputs": [
    {
     "name": "stdout",
     "output_type": "stream",
     "text": [
      "\\author[J.\\ S.\\ Dillon et al.]{Joshua~S.~Dillon$^{1,\\dagger}$\\thanks{Email: jsdillon@berkeley.edu},\n",
      "Max~Lee$^{1}$,\n",
      "Zaki~S.~Ali$^{1}$,\n",
      "Aaron~R.~Parsons$^{1}$,\n",
      "Naomi~Orosz$^{1}$,\n",
      "\\newauthor\n",
      "Chuneeta~Devi~Nunhokee$^{1}$,\n",
      "Paul~La~Plante$^{1,2}$,\n",
      "Adam~P.~Beardsley$^{3,\\dagger}$,\n",
      "\\newauthor\n",
      "Nicholas~S.~Kern$^{1}$,\n",
      "Zara~Abdurashidova$^{1}$,\n",
      "James~E.~Aguirre$^{2}$,\n",
      "Paul~Alexander$^{4}$,\n",
      "\\newauthor\n",
      "Yanga~Balfour$^{5}$,\n",
      "Gianni~Bernardi$^{6,7,5}$,\n",
      "Tashalee~S.~Billings$^{2}$,\n",
      "Judd~D.~Bowman$^{3}$,\n",
      "\\newauthor\n",
      "Richard~F.~Bradley$^{8}$,\n",
      "Phil~Bull$^{9}$,\n",
      "Jacob~Burba$^{10}$,\n",
      "Steve~Carey$^{4}$,\n",
      "\\newauthor\n",
      "Chris~L.~Carilli$^{11}$,\n",
      "Carina~Cheng$^{1}$,\n",
      "David~R.~DeBoer$^{1}$,\n",
      "Matt~Dexter$^{1}$,\n",
      "\\newauthor\n",
      "Eloy~de~Lera~Acedo$^{4}$,\n",
      "John~Ely$^{4}$,\n",
      "Aaron~Ewall-Wice$^{12}$,\n",
      "Nicolas~Fagnoni$^{4}$,\n",
      "\\newauthor\n",
      "Randall~Fritz$^{5}$,\n",
      "Steven~R.~Furlanetto$^{13}$,\n",
      "Kingsley~Gale-Sides$^{4}$,\n",
      "\\newauthor\n",
      "Brian~Glendenning$^{11}$,\n",
      "Deepthi~Gorthi$^{1}$,\n",
      "Bradley~Greig$^{14}$,\n",
      "Jasper~Grobbelaar$^{5}$,\n",
      "\\newauthor\n",
      "Ziyaad~Halday$^{5}$,\n",
      "Bryna~J.~Hazelton$^{15,16}$,\n",
      "Jacqueline~N.~Hewitt$^{12}$,\n",
      "Jack~Hickish$^{1}$,\n",
      "\\newauthor\n",
      "Daniel~C.~Jacobs$^{3}$,\n",
      "Austin~Julius$^{5}$,\n",
      "Joshua~Kerrigan$^{10}$,\n",
      "Piyanat~Kittiwisit$^{17}$,\n",
      "\\newauthor\n",
      "Saul~A.~Kohn$^{2}$,\n",
      "Matthew~Kolopanis$^{3}$,\n",
      "Adam~Lanman$^{10}$,\n",
      "Telalo~Lekalake$^{5}$,\n",
      "\\newauthor\n",
      "David~Lewis$^{3}$,\n",
      "Adrian~Liu$^{18}$,\n",
      "Yin-Zhe~Ma$^{19}$,\n",
      "David~MacMahon$^{1}$,\n",
      "Lourence~Malan$^{5}$,\n",
      "\\newauthor\n",
      "Cresshim~Malgas$^{5}$,\n",
      "Matthys~Maree$^{5}$,\n",
      "Zachary~E.~Martinot$^{2}$,\n",
      "Eunice~Matsetela$^{5}$,\n",
      "\\newauthor\n",
      "Andrei~Mesinger$^{20}$,\n",
      "Mathakane~Molewa$^{5}$,\n",
      "Miguel~F.~Morales$^{15}$,\n",
      "\\newauthor\n",
      "Tshegofalang~Mosiane$^{5}$,\n",
      "Steven~Murray$^{3}$,\n",
      "Abraham~R.~Neben$^{12}$,\n",
      "Bojan~Nikolic$^{4}$,\n",
      "\\newauthor\n",
      "Robert~Pascua$^{1}$,\n",
      "Nipanjana~Patra$^{1}$,\n",
      "Samantha~Pieterse$^{5}$,\n",
      "Jonathan~C.~Pober$^{10}$,\n",
      "\\newauthor\n",
      "Nima~Razavi-Ghods$^{4}$,\n",
      "Jon~Ringuette$^{15}$,\n",
      "James~Robnett$^{11}$,\n",
      "Kathryn~Rosie$^{5}$,\n",
      "\\newauthor\n",
      "Mario~G.~Santos$^{5,17}$,\n",
      "Peter~Sims$^{10}$,\n",
      "Craig~Smith$^{5}$,\n",
      "Angelo~Syce$^{5}$,\n",
      "Max~Tegmark$^{12}$,\n",
      "\\newauthor\n",
      "Nithyanandan~Thyagarajan$^{11,\\ddagger}$,\n",
      "Peter~K.~G.~Williams$^{21,22}$,\n",
      "Haoxuan~Zheng$^{12}$\n",
      "\\\\\n",
      "$^{1}$ Department of Astronomy, University of California, Berkeley, CA\\\\\n",
      "$^{2}$ Department of Physics and Astronomy, University of Pennsylvania, Philadelphia, PA\\\\\n",
      "$^{3}$ School of Earth and Space Exploration, Arizona State University, Tempe, AZ\\\\\n",
      "$^{4}$ Cavendish Astrophysics, University of Cambridge, Cambridge, UK\\\\\n",
      "$^{5}$ South African Radio Astronomy Observatory, Black River Park, 2 Fir Street, Observatory, Cape Town, 7925, South Africa\\\\\n",
      "$^{6}$ Department of Physics and Electronics, Rhodes University, PO Box 94, Grahamstown, 6140, South Africa\\\\\n",
      "$^{7}$ INAF-Istituto di Radioastronomia, via Gobetti 101, 40129 Bologna, Italy\\\\\n",
      "$^{8}$ National Radio Astronomy Observatory, Charlottesville, VA\\\\\n",
      "$^{9}$ Queen Mary University London\\\\\n",
      "$^{10}$ Department of Physics, Brown University, Providence, RI\\\\\n",
      "$^{11}$ National Radio Astronomy Observatory, Socorro, NM\\\\\n",
      "$^{12}$ Department of Physics, Massachusetts Institute of Technology, Cambridge, MA\\\\\n",
      "$^{13}$ Department of Physics and Astronomy, University of California, Los Angeles, CA\\\\\n",
      "$^{14}$ School of Physics, University of Melbourne, Parkville, VIC 3010, Australia\\\\\n",
      "$^{15}$ Department of Physics, University of Washington, Seattle, WA\\\\\n",
      "$^{16}$ eScience Institute, University of Washington, Seattle, WA\\\\\n",
      "$^{17}$ Department of Physics and Astronomy,  University of Western Cape, Cape Town, 7535, South Africa\\\\\n",
      "$^{18}$ Department of Physics and McGill Space Institute, McGill University, 3600 University Street, Montreal, QC H3A 2T8, Canada\\\\\n",
      "$^{19}$ School of Chemistry and Physics, University of KwaZulu-Natal, Westville Campus, Durban, 4000, South Africa\\\\\n",
      "$^{20}$ Scuola Normale Superiore, 56126 Pisa, PI, Italy\\\\\n",
      "$^{21}$ Center for Astrophysics, Harvard \\& Smithsonian, Cambridge, MA\\\\\n",
      "$^{22}$ American Astronomical Society, Washington, DC\\\\\n",
      "$^{\\dagger}$ NSF Astronomy and Astrophysics Postdoctoral Fellow\\\\\n",
      "$^{\\ddagger}$ NRAO Jansky Fellow\n",
      "}\n"
     ]
    }
   ],
   "source": [
    "tex = r'\\author[' + short_author_list + ']{'\n",
    "affil_counter = 1\n",
    "special_affil_counter = 1\n",
    "alpha_sorted = [a[1] for a in sorted([(author_epoch.authors[author]['last'].lower(), author) for author in author_epoch.authors])]\n",
    "authors = nonalpha_authors + [author for author in alpha_sorted if author not in nonalpha_authors]\n",
    "affil_to_num = {}\n",
    "special_affil_to_symbol = {}\n",
    "\n",
    "line_chars = 0\n",
    "for a in authors:\n",
    "    entry_chars = 0\n",
    "    \n",
    "    # find the author and their affiliation\n",
    "    try:\n",
    "        try:\n",
    "            adict = author_epoch.authors[a]\n",
    "        except:\n",
    "            adict = affil_epoch.authors[a]\n",
    "        try: \n",
    "            affiliations = affil_epoch.authors[a]['affiliations']\n",
    "        except:\n",
    "            affiliations = author_epoch.authors[a]['affiliations']\n",
    "    except:\n",
    "        adict = outside_authors[a]\n",
    "        affiliations = adict['affiliations']\n",
    "        \n",
    "    # Build the author's name\n",
    "    entry = adict['first']\n",
    "    if adict['middle'] != '':\n",
    "        entry += '~' +  adict['middle']\n",
    "    entry += '~' +  adict['last']\n",
    "    entry_chars += len(entry)\n",
    "\n",
    "    # Account for institutional numbering \n",
    "    for affil in affiliations:\n",
    "        if 'fellow' not in affil.lower():\n",
    "            if affil not in affil_to_num:\n",
    "                affil_to_num[affil] = str(affil_counter)\n",
    "                affil_counter += 1\n",
    "    affil_nums = [affil_to_num[affil] for affil in affiliations if 'fellow' not in affil.lower()]\n",
    "    entry_chars += len(','.join(affil_nums))\n",
    "    \n",
    "    # Account for special affiliations with symbols\n",
    "    if a in special_affils:\n",
    "        if special_affils[a] not in special_affil_to_symbol:\n",
    "            special_affil_to_symbol[special_affils[a]] = special_affil_marks[special_affil_counter-1]\n",
    "            special_affil_counter += 1\n",
    "        affil_nums.append(special_affil_to_symbol[special_affils[a]])\n",
    "        entry_chars += 2\n",
    "    \n",
    "    # Add superscript affiliations\n",
    "    entry += r'$^{' + ','.join(affil_nums) + r'}$'\n",
    "        \n",
    "    # Handle corresponding authors \\thanks\n",
    "    if a in coresponding_author:\n",
    "        entry += r'\\thanks{Email: ' + coresponding_author[a] + r'}'\n",
    "        entry_chars += 1\n",
    "\n",
    "    # Add comma seperator\n",
    "    if a != authors[-1]:\n",
    "        entry += ',\\n'\n",
    "        entry_chars += 2\n",
    "    \n",
    "    # try to figure out whether we need a new line in the author list\n",
    "    if line_chars + entry_chars > line_width:\n",
    "        entry = r'\\newauthor' + '\\n' + entry\n",
    "        line_chars = entry_chars\n",
    "    else:\n",
    "        line_chars += entry_chars\n",
    "    \n",
    "    # update tex string\n",
    "    tex += entry\n",
    "\n",
    "# separate authors and affiliations\n",
    "tex += '\\n' + r'\\\\' + '\\n'\n",
    "\n",
    "# enumerate affilaitions\n",
    "for affil, num in affil_to_num.items():\n",
    "    tex += '$^{' + num + '}$ ' + affil.replace('&', r'\\&').replace(' |',',') + r'\\\\' + '\\n'\n",
    "for special_affil, symbol in special_affil_to_symbol.items():\n",
    "    tex += '$^{' + symbol + '}$ ' + special_affil.replace('&', r'\\&').replace(' |',',') + r'\\\\' + '\\n'\n",
    "\n",
    "# print final result    \n",
    "tex = tex[:-3] + '\\n}'\n",
    "print(tex)\n",
    "    "
   ]
  },
  {
   "cell_type": "code",
   "execution_count": 48,
   "metadata": {
    "ExecuteTime": {
     "end_time": "2020-03-17T22:03:27.528034Z",
     "start_time": "2020-03-17T22:03:27.522278Z"
    }
   },
   "outputs": [
    {
     "name": "stdout",
     "output_type": "stream",
     "text": [
      "Joshua S. Dillon, Max Lee, Zaki S. Ali, Aaron R. Parsons, Naomi Orosz, Chuneeta Devi Nunhokee, Paul La Plante, Adam P. Beardsley, Nicholas S. Kern, Zara Abdurashidova, James E. Aguirre, Paul Alexander, Yanga Balfour, Gianni Bernardi, Tashalee S. Billings, Judd D. Bowman, Richard F. Bradley, Phil Bull, Jacob Burba, Steve Carey, Chris L. Carilli, Carina Cheng, David R. DeBoer, Matt Dexter, Eloy de Lera Acedo, John Ely, Aaron Ewall-Wice, Nicolas Fagnoni, Randall Fritz, Steven R. Furlanetto, Kingsley Gale-Sides, Brian Glendenning, Deepthi Gorthi, Bradley Greig, Jasper Grobbelaar, Ziyaad Halday, Bryna J. Hazelton, Jacqueline N. Hewitt, Jack Hickish, Daniel C. Jacobs, Austin Julius, Joshua Kerrigan, Piyanat Kittiwisit, Saul A. Kohn, Matthew Kolopanis, Adam Lanman, Telalo Lekalake, David Lewis, Adrian Liu, Yin-Zhe Ma, David MacMahon, Lourence Malan, Cresshim Malgas, Matthys Maree, Zachary E. Martinot, Eunice Matsetela, Andrei Mesinger, Mathakane Molewa, Miguel F. Morales, Tshegofalang Mosiane, Steven Murray, Abraham R. Neben, Bojan Nikolic, Robert Pascua, Nipanjana Patra, Samantha Pieterse, Jonathan C. Pober, Nima Razavi-Ghods, Jon Ringuette, James Robnett, Kathryn Rosie, Mario G. Santos, Peter Sims, Craig Smith, Angelo Syce, Max Tegmark, Nithyanandan Thyagarajan, Peter K. G. Williams, Haoxuan Zheng\n"
     ]
    }
   ],
   "source": [
    "plain_text_list = []\n",
    "for a in authors:\n",
    "    try:\n",
    "        try:\n",
    "            adict = author_epoch.authors[a]\n",
    "        except:\n",
    "            adict = affil_epoch.authors[a]\n",
    "    except:\n",
    "        adict = outside_authors[a]    \n",
    "    entry = adict['first']\n",
    "    if adict['middle'] != '':\n",
    "        entry += ' ' +  adict['middle']\n",
    "    entry += ' ' +  adict['last']\n",
    "    plain_text_list += [entry.replace('~', ' ')]\n",
    "    \n",
    "print(', '.join(plain_text_list))"
   ]
  },
  {
   "cell_type": "code",
   "execution_count": null,
   "metadata": {},
   "outputs": [],
   "source": []
  }
 ],
 "metadata": {
  "kernelspec": {
   "display_name": "Python 3",
   "language": "python",
   "name": "python3"
  },
  "language_info": {
   "codemirror_mode": {
    "name": "ipython",
    "version": 3
   },
   "file_extension": ".py",
   "mimetype": "text/x-python",
   "name": "python",
   "nbconvert_exporter": "python",
   "pygments_lexer": "ipython3",
   "version": "3.7.5"
  },
  "toc": {
   "base_numbering": 1,
   "nav_menu": {},
   "number_sections": false,
   "sideBar": true,
   "skip_h1_title": false,
   "title_cell": "Table of Contents",
   "title_sidebar": "Contents",
   "toc_cell": false,
   "toc_position": {},
   "toc_section_display": true,
   "toc_window_display": false
  }
 },
 "nbformat": 4,
 "nbformat_minor": 2
}
