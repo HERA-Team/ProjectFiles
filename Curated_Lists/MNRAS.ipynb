{
 "cells": [
  {
   "cell_type": "markdown",
   "metadata": {},
   "source": [
    "# MNRAS Latex Author List Builder\n",
    "\n",
    "### Josh Dillon, 12/26/19\n",
    "\n",
    "The following notebook was used to build the author list for *Redundant-Baseline Calibration of the Hydrogen Epoch of Reionization Array* (Dillon et al. 2020) and is meant for MNRAS.\n",
    "\n"
   ]
  },
  {
   "cell_type": "code",
   "execution_count": 1,
   "metadata": {
    "ExecuteTime": {
     "end_time": "2020-03-17T00:41:10.388287Z",
     "start_time": "2020-03-17T00:41:10.385360Z"
    }
   },
   "outputs": [],
   "source": [
    "from builders import Authors"
   ]
  },
  {
   "cell_type": "code",
   "execution_count": 2,
   "metadata": {
    "ExecuteTime": {
     "end_time": "2020-03-17T00:41:10.393922Z",
     "start_time": "2020-03-17T00:41:10.389411Z"
    }
   },
   "outputs": [
    {
     "name": "stdout",
     "output_type": "stream",
     "text": [
      "Reading builders_H1C.txt\n",
      "Reading builders_H3C.txt\n"
     ]
    }
   ],
   "source": [
    "author_epoch = Authors(epoch='H1C') # This is the relevant epoch for the data being used. Get the alphabetical author list from here.\n",
    "affil_epoch = Authors(epoch='H3C')  # This is the most up-to-date affiliations. Look here first for affiliations\n",
    "author_epoch.getAuthors()\n",
    "affil_epoch.getAuthors()"
   ]
  },
  {
   "cell_type": "code",
   "execution_count": 3,
   "metadata": {
    "ExecuteTime": {
     "end_time": "2020-03-17T00:41:10.398017Z",
     "start_time": "2020-03-17T00:41:10.395470Z"
    }
   },
   "outputs": [],
   "source": [
    "# Page header author list\n",
    "short_author_list = 'J.\\ S.\\ Dillon et al.'\n",
    "\n",
    "# First authors and primary contributors in order. These are removed from the alphabetical section\n",
    "nonalpha_authors = ['dillonjoshua', 'leemax', 'alizaki', 'parsonsaaron', 'orosznaomi', 'nunhokeechuneeta', 'la~plantepaul', 'beardsleyadam', 'kernnicholas']\n",
    "\n",
    "# Corresponding authors\n",
    "coresponding_author = {'dillonjoshua': 'jsdillon@berkeley.edu'}"
   ]
  },
  {
   "cell_type": "code",
   "execution_count": 4,
   "metadata": {
    "ExecuteTime": {
     "end_time": "2020-03-17T00:41:10.402635Z",
     "start_time": "2020-03-17T00:41:10.399281Z"
    }
   },
   "outputs": [],
   "source": [
    "# Authors not in either author_epoch or affil_epoch\n",
    "outside_authors = {'leemax': {'first': 'Max',\n",
    "                              'middle': '',\n",
    "                              'last': 'Lee',\n",
    "                              'nice': ['Max', '', 'Lee'],\n",
    "                              'affiliations': ['Department of Astronomy, University of California, Berkeley, CA'],\n",
    "                              'group': '_',\n",
    "                              'ID': {}},\n",
    "                  'orosznaomi': {'first': 'Naomi',\n",
    "                                 'middle': '',\n",
    "                                 'last': 'Orosz',\n",
    "                                 'nice': ['Naomi', '', 'Orosz'],\n",
    "                                 'affiliations': ['Department of Astronomy, University of California, Berkeley, CA'],\n",
    "                                 'group': '_',\n",
    "                                 'ID': {}},\n",
    "                  }"
   ]
  },
  {
   "cell_type": "code",
   "execution_count": 5,
   "metadata": {
    "ExecuteTime": {
     "end_time": "2020-03-17T00:41:10.408077Z",
     "start_time": "2020-03-17T00:41:10.403797Z"
    }
   },
   "outputs": [
    {
     "name": "stdout",
     "output_type": "stream",
     "text": [
      "Reading builders_H0C.txt\n"
     ]
    }
   ],
   "source": [
    "# Add authors in the affiliation epoch but not the author epoch\n",
    "affil_authors_to_add_alphabetically = ['bullphil','santosmario', 'murraysteven', 'pascuarobert']\n",
    "for a in affil_authors_to_add_alphabetically:\n",
    "    author_epoch.authors[a] = affil_epoch.authors[a]\n",
    "    \n",
    "H0C_authors = ['tegmarkmax']\n",
    "H0C_epoch = Authors(epoch='H0C')\n",
    "H0C_epoch.getAuthors()\n",
    "for a in H0C_authors:\n",
    "    author_epoch.authors[a] = H0C_epoch.authors[a]\n"
   ]
  },
  {
   "cell_type": "code",
   "execution_count": 6,
   "metadata": {
    "ExecuteTime": {
     "end_time": "2020-03-17T00:41:10.411598Z",
     "start_time": "2020-03-17T00:41:10.409218Z"
    }
   },
   "outputs": [],
   "source": [
    "# Used for fellowship affiliations, etc.\n",
    "special_affil_marks = [r'\\dagger', r'\\ddagger', r'\\dagger\\dagger', r'\\ddagger\\ddagger']\n",
    "special_affils = {'dillonjoshua': 'NSF Astronomy and Astrophysics Postdoctoral Fellow',\n",
    "                  'beardsleyadam': 'NSF Astronomy and Astrophysics Postdoctoral Fellow',\n",
    "                  'thyagarajannithyanandan': 'NRAO Jansky Fellow'\n",
    "                 }"
   ]
  },
  {
   "cell_type": "code",
   "execution_count": 7,
   "metadata": {
    "ExecuteTime": {
     "end_time": "2020-03-17T00:41:10.414554Z",
     "start_time": "2020-03-17T00:41:10.412678Z"
    }
   },
   "outputs": [],
   "source": [
    "# Vague attempt to put \\newauthor commands in the right place. Doesn't account for character width, so this might need to be adjusted by hand later.\n",
    "line_width = 80"
   ]
  },
  {
   "cell_type": "code",
   "execution_count": 8,
   "metadata": {
    "ExecuteTime": {
     "end_time": "2020-03-17T00:41:10.431574Z",
     "start_time": "2020-03-17T00:41:10.418620Z"
    },
    "scrolled": false
   },
   "outputs": [
    {
     "name": "stdout",
     "output_type": "stream",
     "text": [
      "\\author[J.\\ S.\\ Dillon et al.]{Joshua~S.~Dillon$^{1,\\dagger}$\\thanks{Email: jsdillon@berkeley.edu},\n",
      "Max~Lee$^{1}$,\n",
      "Zaki~S.~Ali$^{1}$,\n",
      "Aaron~R.~Parsons$^{1}$,\n",
      "Naomi~Orosz$^{1}$,\n",
      "\\newauthor\n",
      "Chuneeta~Devi~Nunhokee$^{1}$,\n",
      "Paul~La~Plante$^{1,2}$,\n",
      "Adam~P.~Beardsley$^{3,\\dagger}$,\n",
      "\\newauthor\n",
      "Nicholas~S.~Kern$^{1}$,\n",
      "Zara~Abdurashidova$^{1}$,\n",
      "James~E.~Aguirre$^{2}$,\n",
      "Paul~Alexander$^{4}$,\n",
      "\\newauthor\n",
      "Yanga~Balfour$^{5}$,\n",
      "Gianni~Bernardi$^{6,7,5}$,\n",
      "Tashalee~S.~Billings$^{2}$,\n",
      "Judd~D.~Bowman$^{3}$,\n",
      "\\newauthor\n",
      "Richard~F.~Bradley$^{8}$,\n",
      "Phil~Bull$^{9}$,\n",
      "Jacob~Burba$^{10}$,\n",
      "Steve~Carey$^{4}$,\n",
      "\\newauthor\n",
      "Chris~L.~Carilli$^{11}$,\n",
      "Carina~Cheng$^{1}$,\n",
      "David~R.~DeBoer$^{1}$,\n",
      "Matt~Dexter$^{1}$,\n",
      "\\newauthor\n",
      "Eloy~de~Lera~Acedo$^{4}$,\n",
      "John~Ely$^{4}$,\n",
      "Aaron~Ewall-Wice$^{12}$,\n",
      "Nicolas~Fagnoni$^{4}$,\n",
      "\\newauthor\n",
      "Randall~Fritz$^{5}$,\n",
      "Steven~R.~Furlanetto$^{13}$,\n",
      "Kingsley~Gale-Sides$^{4}$,\n",
      "\\newauthor\n",
      "Brian~Glendenning$^{11}$,\n",
      "Deepthi~Gorthi$^{1}$,\n",
      "Bradley~Greig$^{14}$,\n",
      "Jasper~Grobbelaar$^{5}$,\n",
      "\\newauthor\n",
      "Ziyaad~Halday$^{5}$,\n",
      "Bryna~J.~Hazelton$^{15,16}$,\n",
      "Jacqueline~N.~Hewitt$^{12}$,\n",
      "Jack~Hickish$^{1}$,\n",
      "\\newauthor\n",
      "Daniel~C.~Jacobs$^{3}$,\n",
      "Austin~Julius$^{5}$,\n",
      "Joshua~Kerrigan$^{10}$,\n",
      "Piyanat~Kittiwisit$^{17}$,\n",
      "\\newauthor\n",
      "Saul~A.~Kohn$^{2}$,\n",
      "Matthew~Kolopanis$^{3}$,\n",
      "Adam~Lanman$^{10}$,\n",
      "Telalo~Lekalake$^{5}$,\n",
      "\\newauthor\n",
      "David~Lewis$^{3}$,\n",
      "Adrian~Liu$^{18}$,\n",
      "David~MacMahon$^{1}$,\n",
      "Lourence~Malan$^{5}$,\n",
      "Cresshim~Malgas$^{5}$,\n",
      "\\newauthor\n",
      "Matthys~Maree$^{5}$,\n",
      "Zachary~E.~Martinot$^{2}$,\n",
      "Eunice~Matsetela$^{5}$,\n",
      "Andrei~Mesinger$^{19}$,\n",
      "\\newauthor\n",
      "Mathakane~Molewa$^{5}$,\n",
      "Miguel~F.~Morales$^{15}$,\n",
      "Tshegofalang~Mosiane$^{5}$,\n",
      "Steven~Murray$^{3}$,\n",
      "\\newauthor\n",
      "Abraham~R.~Neben$^{12}$,\n",
      "Bojan~Nikolic$^{4}$,\n",
      "Robert~Pascua$^{1}$,\n",
      "Nipanjana~Patra$^{1}$,\n",
      "\\newauthor\n",
      "Samantha~Pieterse$^{5}$,\n",
      "Jonathan~C.~Pober$^{10}$,\n",
      "Nima~Razavi-Ghods$^{4}$,\n",
      "Jon~Ringuette$^{15}$,\n",
      "\\newauthor\n",
      "James~Robnett$^{11}$,\n",
      "Kathryn~Rosie$^{5}$,\n",
      "Mario~G.~Santos$^{5,17}$,\n",
      "Peter~Sims$^{10}$,\n",
      "\\newauthor\n",
      "Craig~Smith$^{5}$,\n",
      "Angelo~Syce$^{5}$,\n",
      "Max~Tegmark$^{12}$,\n",
      "Nithyanandan~Thyagarajan$^{11,\\ddagger}$,\n",
      "\\newauthor\n",
      "Peter~K.~G.~Williams$^{20,21}$,\n",
      "Haoxuan~Zheng$^{12}$\n",
      "\\\\\n",
      "$^{1}$ Department of Astronomy, University of California, Berkeley, CA\\\\\n",
      "$^{2}$ Department of Physics and Astronomy, University of Pennsylvania, Philadelphia, PA\\\\\n",
      "$^{3}$ School of Earth and Space Exploration, Arizona State University, Tempe, AZ\\\\\n",
      "$^{4}$ Cavendish Astrophysics, University of Cambridge, Cambridge, UK\\\\\n",
      "$^{5}$ South African Radio Astronomy Observatory, Black River Park, 2 Fir Street, Observatory, Cape Town, 7925, South Africa\\\\\n",
      "$^{6}$ Department of Physics and Electronics, Rhodes University, PO Box 94, Grahamstown, 6140, South Africa\\\\\n",
      "$^{7}$ INAF-Istituto di Radioastronomia, via Gobetti 101, 40129 Bologna, Italy\\\\\n",
      "$^{8}$ National Radio Astronomy Observatory, Charlottesville, VA\\\\\n",
      "$^{9}$ Queen Mary University London\\\\\n",
      "$^{10}$ Department of Physics, Brown University, Providence, RI\\\\\n",
      "$^{11}$ National Radio Astronomy Observatory, Socorro, NM\\\\\n",
      "$^{12}$ Department of Physics, Massachusetts Institute of Technology, Cambridge, MA\\\\\n",
      "$^{13}$ Department of Physics and Astronomy, University of California, Los Angeles, CA\\\\\n",
      "$^{14}$ School of Physics, University of Melbourne, Parkville, VIC 3010, Australia\\\\\n",
      "$^{15}$ Department of Physics, University of Washington, Seattle, WA\\\\\n",
      "$^{16}$ eScience Institute, University of Washington, Seattle, WA\\\\\n",
      "$^{17}$ Department of Physics and Astronomy,  University of Western Cape, Cape Town, 7535, South Africa\\\\\n",
      "$^{18}$ Department of Physics and McGill Space Institute, McGill University, 3600 University Street, Montreal, QC H3A 2T8, Canada\\\\\n",
      "$^{19}$ Scuola Normale Superiore, 56126 Pisa, PI, Italy\\\\\n",
      "$^{20}$ Center for Astrophysics, Harvard \\& Smithsonian, Cambridge, MA\\\\\n",
      "$^{21}$ American Astronomical Society, Washington, DC\\\\\n",
      "$^{\\dagger}$ NSF Astronomy and Astrophysics Postdoctoral Fellow\\\\\n",
      "$^{\\ddagger}$ NRAO Jansky Fellow\n",
      "}\n"
     ]
    }
   ],
   "source": [
    "tex = r'\\author[' + short_author_list + ']{'\n",
    "affil_counter = 1\n",
    "special_affil_counter = 1\n",
    "authors = nonalpha_authors + sorted([author for author in author_epoch.authors if author not in nonalpha_authors])\n",
    "affil_to_num = {}\n",
    "special_affil_to_symbol = {}\n",
    "\n",
    "line_chars = 0\n",
    "for a in authors:\n",
    "    entry_chars = 0\n",
    "    \n",
    "    # find the author and their affiliation\n",
    "    try:\n",
    "        try:\n",
    "            adict = author_epoch.authors[a]\n",
    "        except:\n",
    "            adict = affil_epoch.authors[a]\n",
    "        try: \n",
    "            affiliations = affil_epoch.authors[a]['affiliations']\n",
    "        except:\n",
    "            affiliations = author_epoch.authors[a]['affiliations']\n",
    "    except:\n",
    "        adict = outside_authors[a]\n",
    "        affiliations = adict['affiliations']\n",
    "        \n",
    "    # Build the author's name\n",
    "    entry = adict['first']\n",
    "    if adict['middle'] != '':\n",
    "        entry += '~' +  adict['middle']\n",
    "    entry += '~' +  adict['last']\n",
    "    entry_chars += len(entry)\n",
    "\n",
    "    # Account for institutional numbering \n",
    "    for affil in affiliations:\n",
    "        if 'fellow' not in affil.lower():\n",
    "            if affil not in affil_to_num:\n",
    "                affil_to_num[affil] = str(affil_counter)\n",
    "                affil_counter += 1\n",
    "    affil_nums = [affil_to_num[affil] for affil in affiliations if 'fellow' not in affil.lower()]\n",
    "    entry_chars += len(','.join(affil_nums))\n",
    "    \n",
    "    # Account for special affiliations with symbols\n",
    "    if a in special_affils:\n",
    "        if special_affils[a] not in special_affil_to_symbol:\n",
    "            special_affil_to_symbol[special_affils[a]] = special_affil_marks[special_affil_counter-1]\n",
    "            special_affil_counter += 1\n",
    "        affil_nums.append(special_affil_to_symbol[special_affils[a]])\n",
    "        entry_chars += 2\n",
    "    \n",
    "    # Add superscript affiliations\n",
    "    entry += r'$^{' + ','.join(affil_nums) + r'}$'\n",
    "        \n",
    "    # Handle corresponding authors \\thanks\n",
    "    if a in coresponding_author:\n",
    "        entry += r'\\thanks{Email: ' + coresponding_author[a] + r'}'\n",
    "        entry_chars += 1\n",
    "\n",
    "    # Add comma seperator\n",
    "    if a != authors[-1]:\n",
    "        entry += ',\\n'\n",
    "        entry_chars += 2\n",
    "    \n",
    "    # try to figure out whether we need a new line in the author list\n",
    "    if line_chars + entry_chars > line_width:\n",
    "        entry = r'\\newauthor' + '\\n' + entry\n",
    "        line_chars = entry_chars\n",
    "    else:\n",
    "        line_chars += entry_chars\n",
    "    \n",
    "    # update tex string\n",
    "    tex += entry\n",
    "\n",
    "# separate authors and affiliations\n",
    "tex += '\\n' + r'\\\\' + '\\n'\n",
    "\n",
    "# enumerate affilaitions\n",
    "for affil, num in affil_to_num.items():\n",
    "    tex += '$^{' + num + '}$ ' + affil.replace('&', r'\\&').replace(' |',',') + r'\\\\' + '\\n'\n",
    "for special_affil, symbol in special_affil_to_symbol.items():\n",
    "    tex += '$^{' + symbol + '}$ ' + special_affil.replace('&', r'\\&').replace(' |',',') + r'\\\\' + '\\n'\n",
    "\n",
    "# print final result    \n",
    "tex = tex[:-3] + '\\n}'\n",
    "print(tex)\n",
    "    "
   ]
  },
  {
   "cell_type": "code",
   "execution_count": null,
   "metadata": {},
   "outputs": [],
   "source": []
  },
  {
   "cell_type": "code",
   "execution_count": null,
   "metadata": {},
   "outputs": [],
   "source": []
  },
  {
   "cell_type": "code",
   "execution_count": null,
   "metadata": {},
   "outputs": [],
   "source": []
  }
 ],
 "metadata": {
  "kernelspec": {
   "display_name": "Python 3",
   "language": "python",
   "name": "python3"
  },
  "language_info": {
   "codemirror_mode": {
    "name": "ipython",
    "version": 3
   },
   "file_extension": ".py",
   "mimetype": "text/x-python",
   "name": "python",
   "nbconvert_exporter": "python",
   "pygments_lexer": "ipython3",
   "version": "3.7.5"
  },
  "toc": {
   "base_numbering": 1,
   "nav_menu": {},
   "number_sections": false,
   "sideBar": true,
   "skip_h1_title": false,
   "title_cell": "Table of Contents",
   "title_sidebar": "Contents",
   "toc_cell": false,
   "toc_position": {},
   "toc_section_display": true,
   "toc_window_display": true
  }
 },
 "nbformat": 4,
 "nbformat_minor": 2
}
